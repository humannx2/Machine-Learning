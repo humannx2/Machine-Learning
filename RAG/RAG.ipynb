{
  "nbformat": 4,
  "nbformat_minor": 0,
  "metadata": {
    "colab": {
      "provenance": []
    },
    "kernelspec": {
      "name": "python3",
      "display_name": "Python 3"
    },
    "language_info": {
      "name": "python"
    }
  },
  "cells": [
    {
      "cell_type": "code",
      "execution_count": 1,
      "metadata": {
        "colab": {
          "base_uri": "https://localhost:8080/"
        },
        "id": "BtAJaB3xZaWt",
        "outputId": "a9aa1f6f-6270-4b75-a717-0a2dedd601ce"
      },
      "outputs": [
        {
          "output_type": "stream",
          "name": "stdout",
          "text": [
            "Collecting langchain (from -r requirements.txt (line 1))\n",
            "  Downloading langchain-0.2.16-py3-none-any.whl.metadata (7.1 kB)\n",
            "Collecting langchain_community (from -r requirements.txt (line 2))\n",
            "  Downloading langchain_community-0.2.16-py3-none-any.whl.metadata (2.7 kB)\n",
            "Collecting streamlit (from -r requirements.txt (line 3))\n",
            "  Downloading streamlit-1.38.0-py2.py3-none-any.whl.metadata (8.5 kB)\n",
            "Collecting python-dotenv (from -r requirements.txt (line 4))\n",
            "  Downloading python_dotenv-1.0.1-py3-none-any.whl.metadata (23 kB)\n",
            "Collecting pypdf (from -r requirements.txt (line 5))\n",
            "  Downloading pypdf-4.3.1-py3-none-any.whl.metadata (7.4 kB)\n",
            "Collecting bs4 (from -r requirements.txt (line 6))\n",
            "  Downloading bs4-0.0.2-py2.py3-none-any.whl.metadata (411 bytes)\n",
            "Collecting langchain_google_genai (from -r requirements.txt (line 7))\n",
            "  Downloading langchain_google_genai-1.0.10-py3-none-any.whl.metadata (3.8 kB)\n",
            "Collecting chromadb (from -r requirements.txt (line 8))\n",
            "  Downloading chromadb-0.5.5-py3-none-any.whl.metadata (6.8 kB)\n",
            "Collecting faiss-cpu (from -r requirements.txt (line 9))\n",
            "  Downloading faiss_cpu-1.8.0.post1-cp310-cp310-manylinux_2_17_x86_64.manylinux2014_x86_64.whl.metadata (3.7 kB)\n",
            "Requirement already satisfied: PyYAML>=5.3 in /usr/local/lib/python3.10/dist-packages (from langchain->-r requirements.txt (line 1)) (6.0.2)\n",
            "Requirement already satisfied: SQLAlchemy<3,>=1.4 in /usr/local/lib/python3.10/dist-packages (from langchain->-r requirements.txt (line 1)) (2.0.32)\n",
            "Requirement already satisfied: aiohttp<4.0.0,>=3.8.3 in /usr/local/lib/python3.10/dist-packages (from langchain->-r requirements.txt (line 1)) (3.10.5)\n",
            "Requirement already satisfied: async-timeout<5.0.0,>=4.0.0 in /usr/local/lib/python3.10/dist-packages (from langchain->-r requirements.txt (line 1)) (4.0.3)\n",
            "Collecting langchain-core<0.3.0,>=0.2.38 (from langchain->-r requirements.txt (line 1))\n",
            "  Downloading langchain_core-0.2.39-py3-none-any.whl.metadata (6.2 kB)\n",
            "Collecting langchain-text-splitters<0.3.0,>=0.2.0 (from langchain->-r requirements.txt (line 1))\n",
            "  Downloading langchain_text_splitters-0.2.4-py3-none-any.whl.metadata (2.3 kB)\n",
            "Collecting langsmith<0.2.0,>=0.1.17 (from langchain->-r requirements.txt (line 1))\n",
            "  Downloading langsmith-0.1.117-py3-none-any.whl.metadata (13 kB)\n",
            "Requirement already satisfied: numpy<2,>=1 in /usr/local/lib/python3.10/dist-packages (from langchain->-r requirements.txt (line 1)) (1.26.4)\n",
            "Requirement already satisfied: pydantic<3,>=1 in /usr/local/lib/python3.10/dist-packages (from langchain->-r requirements.txt (line 1)) (2.8.2)\n",
            "Requirement already satisfied: requests<3,>=2 in /usr/local/lib/python3.10/dist-packages (from langchain->-r requirements.txt (line 1)) (2.32.3)\n",
            "Collecting tenacity!=8.4.0,<9.0.0,>=8.1.0 (from langchain->-r requirements.txt (line 1))\n",
            "  Downloading tenacity-8.5.0-py3-none-any.whl.metadata (1.2 kB)\n",
            "Collecting dataclasses-json<0.7,>=0.5.7 (from langchain_community->-r requirements.txt (line 2))\n",
            "  Downloading dataclasses_json-0.6.7-py3-none-any.whl.metadata (25 kB)\n",
            "Requirement already satisfied: altair<6,>=4.0 in /usr/local/lib/python3.10/dist-packages (from streamlit->-r requirements.txt (line 3)) (4.2.2)\n",
            "Requirement already satisfied: blinker<2,>=1.0.0 in /usr/lib/python3/dist-packages (from streamlit->-r requirements.txt (line 3)) (1.4)\n",
            "Requirement already satisfied: cachetools<6,>=4.0 in /usr/local/lib/python3.10/dist-packages (from streamlit->-r requirements.txt (line 3)) (5.5.0)\n",
            "Requirement already satisfied: click<9,>=7.0 in /usr/local/lib/python3.10/dist-packages (from streamlit->-r requirements.txt (line 3)) (8.1.7)\n",
            "Requirement already satisfied: packaging<25,>=20 in /usr/local/lib/python3.10/dist-packages (from streamlit->-r requirements.txt (line 3)) (24.1)\n",
            "Requirement already satisfied: pandas<3,>=1.3.0 in /usr/local/lib/python3.10/dist-packages (from streamlit->-r requirements.txt (line 3)) (2.1.4)\n",
            "Requirement already satisfied: pillow<11,>=7.1.0 in /usr/local/lib/python3.10/dist-packages (from streamlit->-r requirements.txt (line 3)) (9.4.0)\n",
            "Requirement already satisfied: protobuf<6,>=3.20 in /usr/local/lib/python3.10/dist-packages (from streamlit->-r requirements.txt (line 3)) (3.20.3)\n",
            "Requirement already satisfied: pyarrow>=7.0 in /usr/local/lib/python3.10/dist-packages (from streamlit->-r requirements.txt (line 3)) (14.0.2)\n",
            "Requirement already satisfied: rich<14,>=10.14.0 in /usr/local/lib/python3.10/dist-packages (from streamlit->-r requirements.txt (line 3)) (13.8.0)\n",
            "Requirement already satisfied: toml<2,>=0.10.1 in /usr/local/lib/python3.10/dist-packages (from streamlit->-r requirements.txt (line 3)) (0.10.2)\n",
            "Requirement already satisfied: typing-extensions<5,>=4.3.0 in /usr/local/lib/python3.10/dist-packages (from streamlit->-r requirements.txt (line 3)) (4.12.2)\n",
            "Collecting gitpython!=3.1.19,<4,>=3.0.7 (from streamlit->-r requirements.txt (line 3))\n",
            "  Downloading GitPython-3.1.43-py3-none-any.whl.metadata (13 kB)\n",
            "Collecting pydeck<1,>=0.8.0b4 (from streamlit->-r requirements.txt (line 3))\n",
            "  Downloading pydeck-0.9.1-py2.py3-none-any.whl.metadata (4.1 kB)\n",
            "Requirement already satisfied: tornado<7,>=6.0.3 in /usr/local/lib/python3.10/dist-packages (from streamlit->-r requirements.txt (line 3)) (6.3.3)\n",
            "Collecting watchdog<5,>=2.1.5 (from streamlit->-r requirements.txt (line 3))\n",
            "  Downloading watchdog-4.0.2-py3-none-manylinux2014_x86_64.whl.metadata (38 kB)\n",
            "Requirement already satisfied: beautifulsoup4 in /usr/local/lib/python3.10/dist-packages (from bs4->-r requirements.txt (line 6)) (4.12.3)\n",
            "Requirement already satisfied: google-generativeai<0.8.0,>=0.7.0 in /usr/local/lib/python3.10/dist-packages (from langchain_google_genai->-r requirements.txt (line 7)) (0.7.2)\n",
            "Requirement already satisfied: build>=1.0.3 in /usr/local/lib/python3.10/dist-packages (from chromadb->-r requirements.txt (line 8)) (1.2.2)\n",
            "Collecting chroma-hnswlib==0.7.6 (from chromadb->-r requirements.txt (line 8))\n",
            "  Downloading chroma_hnswlib-0.7.6-cp310-cp310-manylinux_2_17_x86_64.manylinux2014_x86_64.whl.metadata (252 bytes)\n",
            "Collecting fastapi>=0.95.2 (from chromadb->-r requirements.txt (line 8))\n",
            "  Downloading fastapi-0.114.1-py3-none-any.whl.metadata (27 kB)\n",
            "Collecting uvicorn>=0.18.3 (from uvicorn[standard]>=0.18.3->chromadb->-r requirements.txt (line 8))\n",
            "  Downloading uvicorn-0.30.6-py3-none-any.whl.metadata (6.6 kB)\n",
            "Collecting posthog>=2.4.0 (from chromadb->-r requirements.txt (line 8))\n",
            "  Downloading posthog-3.6.5-py2.py3-none-any.whl.metadata (2.0 kB)\n",
            "Collecting onnxruntime>=1.14.1 (from chromadb->-r requirements.txt (line 8))\n",
            "  Downloading onnxruntime-1.19.2-cp310-cp310-manylinux_2_27_x86_64.manylinux_2_28_x86_64.whl.metadata (4.5 kB)\n",
            "Collecting opentelemetry-api>=1.2.0 (from chromadb->-r requirements.txt (line 8))\n",
            "  Downloading opentelemetry_api-1.27.0-py3-none-any.whl.metadata (1.4 kB)\n",
            "Collecting opentelemetry-exporter-otlp-proto-grpc>=1.2.0 (from chromadb->-r requirements.txt (line 8))\n",
            "  Downloading opentelemetry_exporter_otlp_proto_grpc-1.27.0-py3-none-any.whl.metadata (2.3 kB)\n",
            "Collecting opentelemetry-instrumentation-fastapi>=0.41b0 (from chromadb->-r requirements.txt (line 8))\n",
            "  Downloading opentelemetry_instrumentation_fastapi-0.48b0-py3-none-any.whl.metadata (2.1 kB)\n",
            "Collecting opentelemetry-sdk>=1.2.0 (from chromadb->-r requirements.txt (line 8))\n",
            "  Downloading opentelemetry_sdk-1.27.0-py3-none-any.whl.metadata (1.5 kB)\n",
            "Requirement already satisfied: tokenizers>=0.13.2 in /usr/local/lib/python3.10/dist-packages (from chromadb->-r requirements.txt (line 8)) (0.19.1)\n",
            "Collecting pypika>=0.48.9 (from chromadb->-r requirements.txt (line 8))\n",
            "  Downloading PyPika-0.48.9.tar.gz (67 kB)\n",
            "\u001b[2K     \u001b[90m━━━━━━━━━━━━━━━━━━━━━━━━━━━━━━━━━━━━━━━━\u001b[0m \u001b[32m67.3/67.3 kB\u001b[0m \u001b[31m6.8 MB/s\u001b[0m eta \u001b[36m0:00:00\u001b[0m\n",
            "\u001b[?25h  Installing build dependencies ... \u001b[?25l\u001b[?25hdone\n",
            "  Getting requirements to build wheel ... \u001b[?25l\u001b[?25hdone\n",
            "  Preparing metadata (pyproject.toml) ... \u001b[?25l\u001b[?25hdone\n",
            "Requirement already satisfied: tqdm>=4.65.0 in /usr/local/lib/python3.10/dist-packages (from chromadb->-r requirements.txt (line 8)) (4.66.5)\n",
            "Collecting overrides>=7.3.1 (from chromadb->-r requirements.txt (line 8))\n",
            "  Downloading overrides-7.7.0-py3-none-any.whl.metadata (5.8 kB)\n",
            "Requirement already satisfied: importlib-resources in /usr/local/lib/python3.10/dist-packages (from chromadb->-r requirements.txt (line 8)) (6.4.4)\n",
            "Requirement already satisfied: grpcio>=1.58.0 in /usr/local/lib/python3.10/dist-packages (from chromadb->-r requirements.txt (line 8)) (1.64.1)\n",
            "Collecting bcrypt>=4.0.1 (from chromadb->-r requirements.txt (line 8))\n",
            "  Downloading bcrypt-4.2.0-cp39-abi3-manylinux_2_28_x86_64.whl.metadata (9.6 kB)\n",
            "Requirement already satisfied: typer>=0.9.0 in /usr/local/lib/python3.10/dist-packages (from chromadb->-r requirements.txt (line 8)) (0.12.5)\n",
            "Collecting kubernetes>=28.1.0 (from chromadb->-r requirements.txt (line 8))\n",
            "  Downloading kubernetes-30.1.0-py2.py3-none-any.whl.metadata (1.5 kB)\n",
            "Collecting mmh3>=4.0.1 (from chromadb->-r requirements.txt (line 8))\n",
            "  Downloading mmh3-4.1.0-cp310-cp310-manylinux_2_5_x86_64.manylinux1_x86_64.manylinux_2_17_x86_64.manylinux2014_x86_64.whl.metadata (13 kB)\n",
            "Collecting orjson>=3.9.12 (from chromadb->-r requirements.txt (line 8))\n",
            "  Downloading orjson-3.10.7-cp310-cp310-manylinux_2_17_x86_64.manylinux2014_x86_64.whl.metadata (50 kB)\n",
            "\u001b[2K     \u001b[90m━━━━━━━━━━━━━━━━━━━━━━━━━━━━━━━━━━━━━━━━\u001b[0m \u001b[32m50.4/50.4 kB\u001b[0m \u001b[31m4.2 MB/s\u001b[0m eta \u001b[36m0:00:00\u001b[0m\n",
            "\u001b[?25hCollecting httpx>=0.27.0 (from chromadb->-r requirements.txt (line 8))\n",
            "  Downloading httpx-0.27.2-py3-none-any.whl.metadata (7.1 kB)\n",
            "Requirement already satisfied: aiohappyeyeballs>=2.3.0 in /usr/local/lib/python3.10/dist-packages (from aiohttp<4.0.0,>=3.8.3->langchain->-r requirements.txt (line 1)) (2.4.0)\n",
            "Requirement already satisfied: aiosignal>=1.1.2 in /usr/local/lib/python3.10/dist-packages (from aiohttp<4.0.0,>=3.8.3->langchain->-r requirements.txt (line 1)) (1.3.1)\n",
            "Requirement already satisfied: attrs>=17.3.0 in /usr/local/lib/python3.10/dist-packages (from aiohttp<4.0.0,>=3.8.3->langchain->-r requirements.txt (line 1)) (24.2.0)\n",
            "Requirement already satisfied: frozenlist>=1.1.1 in /usr/local/lib/python3.10/dist-packages (from aiohttp<4.0.0,>=3.8.3->langchain->-r requirements.txt (line 1)) (1.4.1)\n",
            "Requirement already satisfied: multidict<7.0,>=4.5 in /usr/local/lib/python3.10/dist-packages (from aiohttp<4.0.0,>=3.8.3->langchain->-r requirements.txt (line 1)) (6.0.5)\n",
            "Requirement already satisfied: yarl<2.0,>=1.0 in /usr/local/lib/python3.10/dist-packages (from aiohttp<4.0.0,>=3.8.3->langchain->-r requirements.txt (line 1)) (1.9.4)\n",
            "Requirement already satisfied: entrypoints in /usr/local/lib/python3.10/dist-packages (from altair<6,>=4.0->streamlit->-r requirements.txt (line 3)) (0.4)\n",
            "Requirement already satisfied: jinja2 in /usr/local/lib/python3.10/dist-packages (from altair<6,>=4.0->streamlit->-r requirements.txt (line 3)) (3.1.4)\n",
            "Requirement already satisfied: jsonschema>=3.0 in /usr/local/lib/python3.10/dist-packages (from altair<6,>=4.0->streamlit->-r requirements.txt (line 3)) (4.23.0)\n",
            "Requirement already satisfied: toolz in /usr/local/lib/python3.10/dist-packages (from altair<6,>=4.0->streamlit->-r requirements.txt (line 3)) (0.12.1)\n",
            "Requirement already satisfied: pyproject_hooks in /usr/local/lib/python3.10/dist-packages (from build>=1.0.3->chromadb->-r requirements.txt (line 8)) (1.1.0)\n",
            "Requirement already satisfied: tomli>=1.1.0 in /usr/local/lib/python3.10/dist-packages (from build>=1.0.3->chromadb->-r requirements.txt (line 8)) (2.0.1)\n",
            "Collecting marshmallow<4.0.0,>=3.18.0 (from dataclasses-json<0.7,>=0.5.7->langchain_community->-r requirements.txt (line 2))\n",
            "  Downloading marshmallow-3.22.0-py3-none-any.whl.metadata (7.2 kB)\n",
            "Collecting typing-inspect<1,>=0.4.0 (from dataclasses-json<0.7,>=0.5.7->langchain_community->-r requirements.txt (line 2))\n",
            "  Downloading typing_inspect-0.9.0-py3-none-any.whl.metadata (1.5 kB)\n",
            "Collecting starlette<0.39.0,>=0.37.2 (from fastapi>=0.95.2->chromadb->-r requirements.txt (line 8))\n",
            "  Downloading starlette-0.38.5-py3-none-any.whl.metadata (6.0 kB)\n",
            "Collecting gitdb<5,>=4.0.1 (from gitpython!=3.1.19,<4,>=3.0.7->streamlit->-r requirements.txt (line 3))\n",
            "  Downloading gitdb-4.0.11-py3-none-any.whl.metadata (1.2 kB)\n",
            "Requirement already satisfied: google-ai-generativelanguage==0.6.6 in /usr/local/lib/python3.10/dist-packages (from google-generativeai<0.8.0,>=0.7.0->langchain_google_genai->-r requirements.txt (line 7)) (0.6.6)\n",
            "Requirement already satisfied: google-api-core in /usr/local/lib/python3.10/dist-packages (from google-generativeai<0.8.0,>=0.7.0->langchain_google_genai->-r requirements.txt (line 7)) (2.19.2)\n",
            "Requirement already satisfied: google-api-python-client in /usr/local/lib/python3.10/dist-packages (from google-generativeai<0.8.0,>=0.7.0->langchain_google_genai->-r requirements.txt (line 7)) (2.137.0)\n",
            "Requirement already satisfied: google-auth>=2.15.0 in /usr/local/lib/python3.10/dist-packages (from google-generativeai<0.8.0,>=0.7.0->langchain_google_genai->-r requirements.txt (line 7)) (2.27.0)\n",
            "Requirement already satisfied: proto-plus<2.0.0dev,>=1.22.3 in /usr/local/lib/python3.10/dist-packages (from google-ai-generativelanguage==0.6.6->google-generativeai<0.8.0,>=0.7.0->langchain_google_genai->-r requirements.txt (line 7)) (1.24.0)\n",
            "Requirement already satisfied: anyio in /usr/local/lib/python3.10/dist-packages (from httpx>=0.27.0->chromadb->-r requirements.txt (line 8)) (3.7.1)\n",
            "Requirement already satisfied: certifi in /usr/local/lib/python3.10/dist-packages (from httpx>=0.27.0->chromadb->-r requirements.txt (line 8)) (2024.8.30)\n",
            "Collecting httpcore==1.* (from httpx>=0.27.0->chromadb->-r requirements.txt (line 8))\n",
            "  Downloading httpcore-1.0.5-py3-none-any.whl.metadata (20 kB)\n",
            "Requirement already satisfied: idna in /usr/local/lib/python3.10/dist-packages (from httpx>=0.27.0->chromadb->-r requirements.txt (line 8)) (3.8)\n",
            "Requirement already satisfied: sniffio in /usr/local/lib/python3.10/dist-packages (from httpx>=0.27.0->chromadb->-r requirements.txt (line 8)) (1.3.1)\n",
            "Collecting h11<0.15,>=0.13 (from httpcore==1.*->httpx>=0.27.0->chromadb->-r requirements.txt (line 8))\n",
            "  Downloading h11-0.14.0-py3-none-any.whl.metadata (8.2 kB)\n",
            "Requirement already satisfied: six>=1.9.0 in /usr/local/lib/python3.10/dist-packages (from kubernetes>=28.1.0->chromadb->-r requirements.txt (line 8)) (1.16.0)\n",
            "Requirement already satisfied: python-dateutil>=2.5.3 in /usr/local/lib/python3.10/dist-packages (from kubernetes>=28.1.0->chromadb->-r requirements.txt (line 8)) (2.8.2)\n",
            "Requirement already satisfied: websocket-client!=0.40.0,!=0.41.*,!=0.42.*,>=0.32.0 in /usr/local/lib/python3.10/dist-packages (from kubernetes>=28.1.0->chromadb->-r requirements.txt (line 8)) (1.8.0)\n",
            "Requirement already satisfied: requests-oauthlib in /usr/local/lib/python3.10/dist-packages (from kubernetes>=28.1.0->chromadb->-r requirements.txt (line 8)) (1.3.1)\n",
            "Requirement already satisfied: oauthlib>=3.2.2 in /usr/local/lib/python3.10/dist-packages (from kubernetes>=28.1.0->chromadb->-r requirements.txt (line 8)) (3.2.2)\n",
            "Requirement already satisfied: urllib3>=1.24.2 in /usr/local/lib/python3.10/dist-packages (from kubernetes>=28.1.0->chromadb->-r requirements.txt (line 8)) (2.0.7)\n",
            "Collecting jsonpatch<2.0,>=1.33 (from langchain-core<0.3.0,>=0.2.38->langchain->-r requirements.txt (line 1))\n",
            "  Downloading jsonpatch-1.33-py2.py3-none-any.whl.metadata (3.0 kB)\n",
            "Collecting coloredlogs (from onnxruntime>=1.14.1->chromadb->-r requirements.txt (line 8))\n",
            "  Downloading coloredlogs-15.0.1-py2.py3-none-any.whl.metadata (12 kB)\n",
            "Requirement already satisfied: flatbuffers in /usr/local/lib/python3.10/dist-packages (from onnxruntime>=1.14.1->chromadb->-r requirements.txt (line 8)) (24.3.25)\n",
            "Requirement already satisfied: sympy in /usr/local/lib/python3.10/dist-packages (from onnxruntime>=1.14.1->chromadb->-r requirements.txt (line 8)) (1.13.2)\n",
            "Collecting deprecated>=1.2.6 (from opentelemetry-api>=1.2.0->chromadb->-r requirements.txt (line 8))\n",
            "  Downloading Deprecated-1.2.14-py2.py3-none-any.whl.metadata (5.4 kB)\n",
            "Requirement already satisfied: importlib-metadata<=8.4.0,>=6.0 in /usr/local/lib/python3.10/dist-packages (from opentelemetry-api>=1.2.0->chromadb->-r requirements.txt (line 8)) (8.4.0)\n",
            "Requirement already satisfied: googleapis-common-protos~=1.52 in /usr/local/lib/python3.10/dist-packages (from opentelemetry-exporter-otlp-proto-grpc>=1.2.0->chromadb->-r requirements.txt (line 8)) (1.65.0)\n",
            "Collecting opentelemetry-exporter-otlp-proto-common==1.27.0 (from opentelemetry-exporter-otlp-proto-grpc>=1.2.0->chromadb->-r requirements.txt (line 8))\n",
            "  Downloading opentelemetry_exporter_otlp_proto_common-1.27.0-py3-none-any.whl.metadata (1.8 kB)\n",
            "Collecting opentelemetry-proto==1.27.0 (from opentelemetry-exporter-otlp-proto-grpc>=1.2.0->chromadb->-r requirements.txt (line 8))\n",
            "  Downloading opentelemetry_proto-1.27.0-py3-none-any.whl.metadata (2.3 kB)\n",
            "Collecting opentelemetry-instrumentation-asgi==0.48b0 (from opentelemetry-instrumentation-fastapi>=0.41b0->chromadb->-r requirements.txt (line 8))\n",
            "  Downloading opentelemetry_instrumentation_asgi-0.48b0-py3-none-any.whl.metadata (2.0 kB)\n",
            "Collecting opentelemetry-instrumentation==0.48b0 (from opentelemetry-instrumentation-fastapi>=0.41b0->chromadb->-r requirements.txt (line 8))\n",
            "  Downloading opentelemetry_instrumentation-0.48b0-py3-none-any.whl.metadata (6.1 kB)\n",
            "Collecting opentelemetry-semantic-conventions==0.48b0 (from opentelemetry-instrumentation-fastapi>=0.41b0->chromadb->-r requirements.txt (line 8))\n",
            "  Downloading opentelemetry_semantic_conventions-0.48b0-py3-none-any.whl.metadata (2.4 kB)\n",
            "Collecting opentelemetry-util-http==0.48b0 (from opentelemetry-instrumentation-fastapi>=0.41b0->chromadb->-r requirements.txt (line 8))\n",
            "  Downloading opentelemetry_util_http-0.48b0-py3-none-any.whl.metadata (2.5 kB)\n",
            "Requirement already satisfied: setuptools>=16.0 in /usr/local/lib/python3.10/dist-packages (from opentelemetry-instrumentation==0.48b0->opentelemetry-instrumentation-fastapi>=0.41b0->chromadb->-r requirements.txt (line 8)) (71.0.4)\n",
            "Requirement already satisfied: wrapt<2.0.0,>=1.0.0 in /usr/local/lib/python3.10/dist-packages (from opentelemetry-instrumentation==0.48b0->opentelemetry-instrumentation-fastapi>=0.41b0->chromadb->-r requirements.txt (line 8)) (1.16.0)\n",
            "Collecting asgiref~=3.0 (from opentelemetry-instrumentation-asgi==0.48b0->opentelemetry-instrumentation-fastapi>=0.41b0->chromadb->-r requirements.txt (line 8))\n",
            "  Downloading asgiref-3.8.1-py3-none-any.whl.metadata (9.3 kB)\n",
            "Requirement already satisfied: pytz>=2020.1 in /usr/local/lib/python3.10/dist-packages (from pandas<3,>=1.3.0->streamlit->-r requirements.txt (line 3)) (2024.1)\n",
            "Requirement already satisfied: tzdata>=2022.1 in /usr/local/lib/python3.10/dist-packages (from pandas<3,>=1.3.0->streamlit->-r requirements.txt (line 3)) (2024.1)\n",
            "Collecting monotonic>=1.5 (from posthog>=2.4.0->chromadb->-r requirements.txt (line 8))\n",
            "  Downloading monotonic-1.6-py2.py3-none-any.whl.metadata (1.5 kB)\n",
            "Collecting backoff>=1.10.0 (from posthog>=2.4.0->chromadb->-r requirements.txt (line 8))\n",
            "  Downloading backoff-2.2.1-py3-none-any.whl.metadata (14 kB)\n",
            "Requirement already satisfied: annotated-types>=0.4.0 in /usr/local/lib/python3.10/dist-packages (from pydantic<3,>=1->langchain->-r requirements.txt (line 1)) (0.7.0)\n",
            "Requirement already satisfied: pydantic-core==2.20.1 in /usr/local/lib/python3.10/dist-packages (from pydantic<3,>=1->langchain->-r requirements.txt (line 1)) (2.20.1)\n",
            "Requirement already satisfied: charset-normalizer<4,>=2 in /usr/local/lib/python3.10/dist-packages (from requests<3,>=2->langchain->-r requirements.txt (line 1)) (3.3.2)\n",
            "Requirement already satisfied: markdown-it-py>=2.2.0 in /usr/local/lib/python3.10/dist-packages (from rich<14,>=10.14.0->streamlit->-r requirements.txt (line 3)) (3.0.0)\n",
            "Requirement already satisfied: pygments<3.0.0,>=2.13.0 in /usr/local/lib/python3.10/dist-packages (from rich<14,>=10.14.0->streamlit->-r requirements.txt (line 3)) (2.16.1)\n",
            "Requirement already satisfied: greenlet!=0.4.17 in /usr/local/lib/python3.10/dist-packages (from SQLAlchemy<3,>=1.4->langchain->-r requirements.txt (line 1)) (3.0.3)\n",
            "Requirement already satisfied: huggingface-hub<1.0,>=0.16.4 in /usr/local/lib/python3.10/dist-packages (from tokenizers>=0.13.2->chromadb->-r requirements.txt (line 8)) (0.24.6)\n",
            "Requirement already satisfied: shellingham>=1.3.0 in /usr/local/lib/python3.10/dist-packages (from typer>=0.9.0->chromadb->-r requirements.txt (line 8)) (1.5.4)\n",
            "Collecting httptools>=0.5.0 (from uvicorn[standard]>=0.18.3->chromadb->-r requirements.txt (line 8))\n",
            "  Downloading httptools-0.6.1-cp310-cp310-manylinux_2_5_x86_64.manylinux1_x86_64.manylinux_2_17_x86_64.manylinux2014_x86_64.whl.metadata (3.6 kB)\n",
            "Collecting uvloop!=0.15.0,!=0.15.1,>=0.14.0 (from uvicorn[standard]>=0.18.3->chromadb->-r requirements.txt (line 8))\n",
            "  Downloading uvloop-0.20.0-cp310-cp310-manylinux_2_17_x86_64.manylinux2014_x86_64.whl.metadata (4.9 kB)\n",
            "Collecting watchfiles>=0.13 (from uvicorn[standard]>=0.18.3->chromadb->-r requirements.txt (line 8))\n",
            "  Downloading watchfiles-0.24.0-cp310-cp310-manylinux_2_17_x86_64.manylinux2014_x86_64.whl.metadata (4.9 kB)\n",
            "Collecting websockets>=10.4 (from uvicorn[standard]>=0.18.3->chromadb->-r requirements.txt (line 8))\n",
            "  Downloading websockets-13.0.1-cp310-cp310-manylinux_2_5_x86_64.manylinux1_x86_64.manylinux_2_17_x86_64.manylinux2014_x86_64.whl.metadata (6.7 kB)\n",
            "Requirement already satisfied: soupsieve>1.2 in /usr/local/lib/python3.10/dist-packages (from beautifulsoup4->bs4->-r requirements.txt (line 6)) (2.6)\n",
            "Collecting smmap<6,>=3.0.1 (from gitdb<5,>=4.0.1->gitpython!=3.1.19,<4,>=3.0.7->streamlit->-r requirements.txt (line 3))\n",
            "  Downloading smmap-5.0.1-py3-none-any.whl.metadata (4.3 kB)\n",
            "Requirement already satisfied: pyasn1-modules>=0.2.1 in /usr/local/lib/python3.10/dist-packages (from google-auth>=2.15.0->google-generativeai<0.8.0,>=0.7.0->langchain_google_genai->-r requirements.txt (line 7)) (0.4.0)\n",
            "Requirement already satisfied: rsa<5,>=3.1.4 in /usr/local/lib/python3.10/dist-packages (from google-auth>=2.15.0->google-generativeai<0.8.0,>=0.7.0->langchain_google_genai->-r requirements.txt (line 7)) (4.9)\n",
            "Requirement already satisfied: filelock in /usr/local/lib/python3.10/dist-packages (from huggingface-hub<1.0,>=0.16.4->tokenizers>=0.13.2->chromadb->-r requirements.txt (line 8)) (3.15.4)\n",
            "Requirement already satisfied: fsspec>=2023.5.0 in /usr/local/lib/python3.10/dist-packages (from huggingface-hub<1.0,>=0.16.4->tokenizers>=0.13.2->chromadb->-r requirements.txt (line 8)) (2024.6.1)\n",
            "Requirement already satisfied: zipp>=0.5 in /usr/local/lib/python3.10/dist-packages (from importlib-metadata<=8.4.0,>=6.0->opentelemetry-api>=1.2.0->chromadb->-r requirements.txt (line 8)) (3.20.1)\n",
            "Requirement already satisfied: MarkupSafe>=2.0 in /usr/local/lib/python3.10/dist-packages (from jinja2->altair<6,>=4.0->streamlit->-r requirements.txt (line 3)) (2.1.5)\n",
            "Collecting jsonpointer>=1.9 (from jsonpatch<2.0,>=1.33->langchain-core<0.3.0,>=0.2.38->langchain->-r requirements.txt (line 1))\n",
            "  Downloading jsonpointer-3.0.0-py2.py3-none-any.whl.metadata (2.3 kB)\n",
            "Requirement already satisfied: jsonschema-specifications>=2023.03.6 in /usr/local/lib/python3.10/dist-packages (from jsonschema>=3.0->altair<6,>=4.0->streamlit->-r requirements.txt (line 3)) (2023.12.1)\n",
            "Requirement already satisfied: referencing>=0.28.4 in /usr/local/lib/python3.10/dist-packages (from jsonschema>=3.0->altair<6,>=4.0->streamlit->-r requirements.txt (line 3)) (0.35.1)\n",
            "Requirement already satisfied: rpds-py>=0.7.1 in /usr/local/lib/python3.10/dist-packages (from jsonschema>=3.0->altair<6,>=4.0->streamlit->-r requirements.txt (line 3)) (0.20.0)\n",
            "Requirement already satisfied: mdurl~=0.1 in /usr/local/lib/python3.10/dist-packages (from markdown-it-py>=2.2.0->rich<14,>=10.14.0->streamlit->-r requirements.txt (line 3)) (0.1.2)\n",
            "Requirement already satisfied: exceptiongroup in /usr/local/lib/python3.10/dist-packages (from anyio->httpx>=0.27.0->chromadb->-r requirements.txt (line 8)) (1.2.2)\n",
            "Collecting mypy-extensions>=0.3.0 (from typing-inspect<1,>=0.4.0->dataclasses-json<0.7,>=0.5.7->langchain_community->-r requirements.txt (line 2))\n",
            "  Downloading mypy_extensions-1.0.0-py3-none-any.whl.metadata (1.1 kB)\n",
            "Collecting humanfriendly>=9.1 (from coloredlogs->onnxruntime>=1.14.1->chromadb->-r requirements.txt (line 8))\n",
            "  Downloading humanfriendly-10.0-py2.py3-none-any.whl.metadata (9.2 kB)\n",
            "Requirement already satisfied: httplib2<1.dev0,>=0.19.0 in /usr/local/lib/python3.10/dist-packages (from google-api-python-client->google-generativeai<0.8.0,>=0.7.0->langchain_google_genai->-r requirements.txt (line 7)) (0.22.0)\n",
            "Requirement already satisfied: google-auth-httplib2<1.0.0,>=0.2.0 in /usr/local/lib/python3.10/dist-packages (from google-api-python-client->google-generativeai<0.8.0,>=0.7.0->langchain_google_genai->-r requirements.txt (line 7)) (0.2.0)\n",
            "Requirement already satisfied: uritemplate<5,>=3.0.1 in /usr/local/lib/python3.10/dist-packages (from google-api-python-client->google-generativeai<0.8.0,>=0.7.0->langchain_google_genai->-r requirements.txt (line 7)) (4.1.1)\n",
            "Requirement already satisfied: mpmath<1.4,>=1.1.0 in /usr/local/lib/python3.10/dist-packages (from sympy->onnxruntime>=1.14.1->chromadb->-r requirements.txt (line 8)) (1.3.0)\n",
            "Requirement already satisfied: grpcio-status<2.0.dev0,>=1.33.2 in /usr/local/lib/python3.10/dist-packages (from google-api-core[grpc]!=2.0.*,!=2.1.*,!=2.10.*,!=2.2.*,!=2.3.*,!=2.4.*,!=2.5.*,!=2.6.*,!=2.7.*,!=2.8.*,!=2.9.*,<3.0.0dev,>=1.34.1->google-ai-generativelanguage==0.6.6->google-generativeai<0.8.0,>=0.7.0->langchain_google_genai->-r requirements.txt (line 7)) (1.48.2)\n",
            "Requirement already satisfied: pyparsing!=3.0.0,!=3.0.1,!=3.0.2,!=3.0.3,<4,>=2.4.2 in /usr/local/lib/python3.10/dist-packages (from httplib2<1.dev0,>=0.19.0->google-api-python-client->google-generativeai<0.8.0,>=0.7.0->langchain_google_genai->-r requirements.txt (line 7)) (3.1.4)\n",
            "Requirement already satisfied: pyasn1<0.7.0,>=0.4.6 in /usr/local/lib/python3.10/dist-packages (from pyasn1-modules>=0.2.1->google-auth>=2.15.0->google-generativeai<0.8.0,>=0.7.0->langchain_google_genai->-r requirements.txt (line 7)) (0.6.0)\n",
            "Downloading langchain-0.2.16-py3-none-any.whl (1.0 MB)\n",
            "\u001b[2K   \u001b[90m━━━━━━━━━━━━━━━━━━━━━━━━━━━━━━━━━━━━━━━━\u001b[0m \u001b[32m1.0/1.0 MB\u001b[0m \u001b[31m20.8 MB/s\u001b[0m eta \u001b[36m0:00:00\u001b[0m\n",
            "\u001b[?25hDownloading langchain_community-0.2.16-py3-none-any.whl (2.3 MB)\n",
            "\u001b[2K   \u001b[90m━━━━━━━━━━━━━━━━━━━━━━━━━━━━━━━━━━━━━━━━\u001b[0m \u001b[32m2.3/2.3 MB\u001b[0m \u001b[31m61.8 MB/s\u001b[0m eta \u001b[36m0:00:00\u001b[0m\n",
            "\u001b[?25hDownloading streamlit-1.38.0-py2.py3-none-any.whl (8.7 MB)\n",
            "\u001b[2K   \u001b[90m━━━━━━━━━━━━━━━━━━━━━━━━━━━━━━━━━━━━━━━━\u001b[0m \u001b[32m8.7/8.7 MB\u001b[0m \u001b[31m97.8 MB/s\u001b[0m eta \u001b[36m0:00:00\u001b[0m\n",
            "\u001b[?25hDownloading python_dotenv-1.0.1-py3-none-any.whl (19 kB)\n",
            "Downloading pypdf-4.3.1-py3-none-any.whl (295 kB)\n",
            "\u001b[2K   \u001b[90m━━━━━━━━━━━━━━━━━━━━━━━━━━━━━━━━━━━━━━━━\u001b[0m \u001b[32m295.8/295.8 kB\u001b[0m \u001b[31m26.2 MB/s\u001b[0m eta \u001b[36m0:00:00\u001b[0m\n",
            "\u001b[?25hDownloading bs4-0.0.2-py2.py3-none-any.whl (1.2 kB)\n",
            "Downloading langchain_google_genai-1.0.10-py3-none-any.whl (39 kB)\n",
            "Downloading chromadb-0.5.5-py3-none-any.whl (584 kB)\n",
            "\u001b[2K   \u001b[90m━━━━━━━━━━━━━━━━━━━━━━━━━━━━━━━━━━━━━━━━\u001b[0m \u001b[32m584.3/584.3 kB\u001b[0m \u001b[31m40.8 MB/s\u001b[0m eta \u001b[36m0:00:00\u001b[0m\n",
            "\u001b[?25hDownloading chroma_hnswlib-0.7.6-cp310-cp310-manylinux_2_17_x86_64.manylinux2014_x86_64.whl (2.4 MB)\n",
            "\u001b[2K   \u001b[90m━━━━━━━━━━━━━━━━━━━━━━━━━━━━━━━━━━━━━━━━\u001b[0m \u001b[32m2.4/2.4 MB\u001b[0m \u001b[31m73.2 MB/s\u001b[0m eta \u001b[36m0:00:00\u001b[0m\n",
            "\u001b[?25hDownloading faiss_cpu-1.8.0.post1-cp310-cp310-manylinux_2_17_x86_64.manylinux2014_x86_64.whl (27.0 MB)\n",
            "\u001b[2K   \u001b[90m━━━━━━━━━━━━━━━━━━━━━━━━━━━━━━━━━━━━━━━━\u001b[0m \u001b[32m27.0/27.0 MB\u001b[0m \u001b[31m66.3 MB/s\u001b[0m eta \u001b[36m0:00:00\u001b[0m\n",
            "\u001b[?25hDownloading bcrypt-4.2.0-cp39-abi3-manylinux_2_28_x86_64.whl (273 kB)\n",
            "\u001b[2K   \u001b[90m━━━━━━━━━━━━━━━━━━━━━━━━━━━━━━━━━━━━━━━━\u001b[0m \u001b[32m273.8/273.8 kB\u001b[0m \u001b[31m16.4 MB/s\u001b[0m eta \u001b[36m0:00:00\u001b[0m\n",
            "\u001b[?25hDownloading dataclasses_json-0.6.7-py3-none-any.whl (28 kB)\n",
            "Downloading fastapi-0.114.1-py3-none-any.whl (94 kB)\n",
            "\u001b[2K   \u001b[90m━━━━━━━━━━━━━━━━━━━━━━━━━━━━━━━━━━━━━━━━\u001b[0m \u001b[32m94.0/94.0 kB\u001b[0m \u001b[31m8.6 MB/s\u001b[0m eta \u001b[36m0:00:00\u001b[0m\n",
            "\u001b[?25hDownloading GitPython-3.1.43-py3-none-any.whl (207 kB)\n",
            "\u001b[2K   \u001b[90m━━━━━━━━━━━━━━━━━━━━━━━━━━━━━━━━━━━━━━━━\u001b[0m \u001b[32m207.3/207.3 kB\u001b[0m \u001b[31m19.8 MB/s\u001b[0m eta \u001b[36m0:00:00\u001b[0m\n",
            "\u001b[?25hDownloading httpx-0.27.2-py3-none-any.whl (76 kB)\n",
            "\u001b[2K   \u001b[90m━━━━━━━━━━━━━━━━━━━━━━━━━━━━━━━━━━━━━━━━\u001b[0m \u001b[32m76.4/76.4 kB\u001b[0m \u001b[31m7.3 MB/s\u001b[0m eta \u001b[36m0:00:00\u001b[0m\n",
            "\u001b[?25hDownloading httpcore-1.0.5-py3-none-any.whl (77 kB)\n",
            "\u001b[2K   \u001b[90m━━━━━━━━━━━━━━━━━━━━━━━━━━━━━━━━━━━━━━━━\u001b[0m \u001b[32m77.9/77.9 kB\u001b[0m \u001b[31m7.3 MB/s\u001b[0m eta \u001b[36m0:00:00\u001b[0m\n",
            "\u001b[?25hDownloading kubernetes-30.1.0-py2.py3-none-any.whl (1.7 MB)\n",
            "\u001b[2K   \u001b[90m━━━━━━━━━━━━━━━━━━━━━━━━━━━━━━━━━━━━━━━━\u001b[0m \u001b[32m1.7/1.7 MB\u001b[0m \u001b[31m68.0 MB/s\u001b[0m eta \u001b[36m0:00:00\u001b[0m\n",
            "\u001b[?25hDownloading langchain_core-0.2.39-py3-none-any.whl (396 kB)\n",
            "\u001b[2K   \u001b[90m━━━━━━━━━━━━━━━━━━━━━━━━━━━━━━━━━━━━━━━━\u001b[0m \u001b[32m396.6/396.6 kB\u001b[0m \u001b[31m28.8 MB/s\u001b[0m eta \u001b[36m0:00:00\u001b[0m\n",
            "\u001b[?25hDownloading langchain_text_splitters-0.2.4-py3-none-any.whl (25 kB)\n",
            "Downloading langsmith-0.1.117-py3-none-any.whl (290 kB)\n",
            "\u001b[2K   \u001b[90m━━━━━━━━━━━━━━━━━━━━━━━━━━━━━━━━━━━━━━━━\u001b[0m \u001b[32m290.5/290.5 kB\u001b[0m \u001b[31m20.6 MB/s\u001b[0m eta \u001b[36m0:00:00\u001b[0m\n",
            "\u001b[?25hDownloading mmh3-4.1.0-cp310-cp310-manylinux_2_5_x86_64.manylinux1_x86_64.manylinux_2_17_x86_64.manylinux2014_x86_64.whl (67 kB)\n",
            "\u001b[2K   \u001b[90m━━━━━━━━━━━━━━━━━━━━━━━━━━━━━━━━━━━━━━━━\u001b[0m \u001b[32m67.6/67.6 kB\u001b[0m \u001b[31m6.4 MB/s\u001b[0m eta \u001b[36m0:00:00\u001b[0m\n",
            "\u001b[?25hDownloading onnxruntime-1.19.2-cp310-cp310-manylinux_2_27_x86_64.manylinux_2_28_x86_64.whl (13.2 MB)\n",
            "\u001b[2K   \u001b[90m━━━━━━━━━━━━━━━━━━━━━━━━━━━━━━━━━━━━━━━━\u001b[0m \u001b[32m13.2/13.2 MB\u001b[0m \u001b[31m88.2 MB/s\u001b[0m eta \u001b[36m0:00:00\u001b[0m\n",
            "\u001b[?25hDownloading opentelemetry_api-1.27.0-py3-none-any.whl (63 kB)\n",
            "\u001b[2K   \u001b[90m━━━━━━━━━━━━━━━━━━━━━━━━━━━━━━━━━━━━━━━━\u001b[0m \u001b[32m64.0/64.0 kB\u001b[0m \u001b[31m5.8 MB/s\u001b[0m eta \u001b[36m0:00:00\u001b[0m\n",
            "\u001b[?25hDownloading opentelemetry_exporter_otlp_proto_grpc-1.27.0-py3-none-any.whl (18 kB)\n",
            "Downloading opentelemetry_exporter_otlp_proto_common-1.27.0-py3-none-any.whl (17 kB)\n",
            "Downloading opentelemetry_proto-1.27.0-py3-none-any.whl (52 kB)\n",
            "\u001b[2K   \u001b[90m━━━━━━━━━━━━━━━━━━━━━━━━━━━━━━━━━━━━━━━━\u001b[0m \u001b[32m52.5/52.5 kB\u001b[0m \u001b[31m5.0 MB/s\u001b[0m eta \u001b[36m0:00:00\u001b[0m\n",
            "\u001b[?25hDownloading opentelemetry_instrumentation_fastapi-0.48b0-py3-none-any.whl (11 kB)\n",
            "Downloading opentelemetry_instrumentation-0.48b0-py3-none-any.whl (29 kB)\n",
            "Downloading opentelemetry_instrumentation_asgi-0.48b0-py3-none-any.whl (15 kB)\n",
            "Downloading opentelemetry_semantic_conventions-0.48b0-py3-none-any.whl (149 kB)\n",
            "\u001b[2K   \u001b[90m━━━━━━━━━━━━━━━━━━━━━━━━━━━━━━━━━━━━━━━━\u001b[0m \u001b[32m149.7/149.7 kB\u001b[0m \u001b[31m13.9 MB/s\u001b[0m eta \u001b[36m0:00:00\u001b[0m\n",
            "\u001b[?25hDownloading opentelemetry_util_http-0.48b0-py3-none-any.whl (6.9 kB)\n",
            "Downloading opentelemetry_sdk-1.27.0-py3-none-any.whl (110 kB)\n",
            "\u001b[2K   \u001b[90m━━━━━━━━━━━━━━━━━━━━━━━━━━━━━━━━━━━━━━━━\u001b[0m \u001b[32m110.5/110.5 kB\u001b[0m \u001b[31m10.2 MB/s\u001b[0m eta \u001b[36m0:00:00\u001b[0m\n",
            "\u001b[?25hDownloading orjson-3.10.7-cp310-cp310-manylinux_2_17_x86_64.manylinux2014_x86_64.whl (141 kB)\n",
            "\u001b[2K   \u001b[90m━━━━━━━━━━━━━━━━━━━━━━━━━━━━━━━━━━━━━━━━\u001b[0m \u001b[32m141.9/141.9 kB\u001b[0m \u001b[31m13.1 MB/s\u001b[0m eta \u001b[36m0:00:00\u001b[0m\n",
            "\u001b[?25hDownloading overrides-7.7.0-py3-none-any.whl (17 kB)\n",
            "Downloading posthog-3.6.5-py2.py3-none-any.whl (54 kB)\n",
            "\u001b[2K   \u001b[90m━━━━━━━━━━━━━━━━━━━━━━━━━━━━━━━━━━━━━━━━\u001b[0m \u001b[32m54.2/54.2 kB\u001b[0m \u001b[31m4.8 MB/s\u001b[0m eta \u001b[36m0:00:00\u001b[0m\n",
            "\u001b[?25hDownloading pydeck-0.9.1-py2.py3-none-any.whl (6.9 MB)\n",
            "\u001b[2K   \u001b[90m━━━━━━━━━━━━━━━━━━━━━━━━━━━━━━━━━━━━━━━━\u001b[0m \u001b[32m6.9/6.9 MB\u001b[0m \u001b[31m102.7 MB/s\u001b[0m eta \u001b[36m0:00:00\u001b[0m\n",
            "\u001b[?25hDownloading tenacity-8.5.0-py3-none-any.whl (28 kB)\n",
            "Downloading uvicorn-0.30.6-py3-none-any.whl (62 kB)\n",
            "\u001b[2K   \u001b[90m━━━━━━━━━━━━━━━━━━━━━━━━━━━━━━━━━━━━━━━━\u001b[0m \u001b[32m62.8/62.8 kB\u001b[0m \u001b[31m6.1 MB/s\u001b[0m eta \u001b[36m0:00:00\u001b[0m\n",
            "\u001b[?25hDownloading watchdog-4.0.2-py3-none-manylinux2014_x86_64.whl (82 kB)\n",
            "\u001b[2K   \u001b[90m━━━━━━━━━━━━━━━━━━━━━━━━━━━━━━━━━━━━━━━━\u001b[0m \u001b[32m82.9/82.9 kB\u001b[0m \u001b[31m7.8 MB/s\u001b[0m eta \u001b[36m0:00:00\u001b[0m\n",
            "\u001b[?25hDownloading backoff-2.2.1-py3-none-any.whl (15 kB)\n",
            "Downloading Deprecated-1.2.14-py2.py3-none-any.whl (9.6 kB)\n",
            "Downloading gitdb-4.0.11-py3-none-any.whl (62 kB)\n",
            "\u001b[2K   \u001b[90m━━━━━━━━━━━━━━━━━━━━━━━━━━━━━━━━━━━━━━━━\u001b[0m \u001b[32m62.7/62.7 kB\u001b[0m \u001b[31m5.9 MB/s\u001b[0m eta \u001b[36m0:00:00\u001b[0m\n",
            "\u001b[?25hDownloading h11-0.14.0-py3-none-any.whl (58 kB)\n",
            "\u001b[2K   \u001b[90m━━━━━━━━━━━━━━━━━━━━━━━━━━━━━━━━━━━━━━━━\u001b[0m \u001b[32m58.3/58.3 kB\u001b[0m \u001b[31m5.3 MB/s\u001b[0m eta \u001b[36m0:00:00\u001b[0m\n",
            "\u001b[?25hDownloading httptools-0.6.1-cp310-cp310-manylinux_2_5_x86_64.manylinux1_x86_64.manylinux_2_17_x86_64.manylinux2014_x86_64.whl (341 kB)\n",
            "\u001b[2K   \u001b[90m━━━━━━━━━━━━━━━━━━━━━━━━━━━━━━━━━━━━━━━━\u001b[0m \u001b[32m341.4/341.4 kB\u001b[0m \u001b[31m29.8 MB/s\u001b[0m eta \u001b[36m0:00:00\u001b[0m\n",
            "\u001b[?25hDownloading jsonpatch-1.33-py2.py3-none-any.whl (12 kB)\n",
            "Downloading marshmallow-3.22.0-py3-none-any.whl (49 kB)\n",
            "\u001b[2K   \u001b[90m━━━━━━━━━━━━━━━━━━━━━━━━━━━━━━━━━━━━━━━━\u001b[0m \u001b[32m49.3/49.3 kB\u001b[0m \u001b[31m4.8 MB/s\u001b[0m eta \u001b[36m0:00:00\u001b[0m\n",
            "\u001b[?25hDownloading monotonic-1.6-py2.py3-none-any.whl (8.2 kB)\n",
            "Downloading starlette-0.38.5-py3-none-any.whl (71 kB)\n",
            "\u001b[2K   \u001b[90m━━━━━━━━━━━━━━━━━━━━━━━━━━━━━━━━━━━━━━━━\u001b[0m \u001b[32m71.4/71.4 kB\u001b[0m \u001b[31m7.2 MB/s\u001b[0m eta \u001b[36m0:00:00\u001b[0m\n",
            "\u001b[?25hDownloading typing_inspect-0.9.0-py3-none-any.whl (8.8 kB)\n",
            "Downloading uvloop-0.20.0-cp310-cp310-manylinux_2_17_x86_64.manylinux2014_x86_64.whl (3.4 MB)\n",
            "\u001b[2K   \u001b[90m━━━━━━━━━━━━━━━━━━━━━━━━━━━━━━━━━━━━━━━━\u001b[0m \u001b[32m3.4/3.4 MB\u001b[0m \u001b[31m66.4 MB/s\u001b[0m eta \u001b[36m0:00:00\u001b[0m\n",
            "\u001b[?25hDownloading watchfiles-0.24.0-cp310-cp310-manylinux_2_17_x86_64.manylinux2014_x86_64.whl (425 kB)\n",
            "\u001b[2K   \u001b[90m━━━━━━━━━━━━━━━━━━━━━━━━━━━━━━━━━━━━━━━━\u001b[0m \u001b[32m425.7/425.7 kB\u001b[0m \u001b[31m35.8 MB/s\u001b[0m eta \u001b[36m0:00:00\u001b[0m\n",
            "\u001b[?25hDownloading websockets-13.0.1-cp310-cp310-manylinux_2_5_x86_64.manylinux1_x86_64.manylinux_2_17_x86_64.manylinux2014_x86_64.whl (157 kB)\n",
            "\u001b[2K   \u001b[90m━━━━━━━━━━━━━━━━━━━━━━━━━━━━━━━━━━━━━━━━\u001b[0m \u001b[32m157.3/157.3 kB\u001b[0m \u001b[31m1.0 MB/s\u001b[0m eta \u001b[36m0:00:00\u001b[0m\n",
            "\u001b[?25hDownloading coloredlogs-15.0.1-py2.py3-none-any.whl (46 kB)\n",
            "\u001b[2K   \u001b[90m━━━━━━━━━━━━━━━━━━━━━━━━━━━━━━━━━━━━━━━━\u001b[0m \u001b[32m46.0/46.0 kB\u001b[0m \u001b[31m4.2 MB/s\u001b[0m eta \u001b[36m0:00:00\u001b[0m\n",
            "\u001b[?25hDownloading asgiref-3.8.1-py3-none-any.whl (23 kB)\n",
            "Downloading humanfriendly-10.0-py2.py3-none-any.whl (86 kB)\n",
            "\u001b[2K   \u001b[90m━━━━━━━━━━━━━━━━━━━━━━━━━━━━━━━━━━━━━━━━\u001b[0m \u001b[32m86.8/86.8 kB\u001b[0m \u001b[31m9.1 MB/s\u001b[0m eta \u001b[36m0:00:00\u001b[0m\n",
            "\u001b[?25hDownloading jsonpointer-3.0.0-py2.py3-none-any.whl (7.6 kB)\n",
            "Downloading mypy_extensions-1.0.0-py3-none-any.whl (4.7 kB)\n",
            "Downloading smmap-5.0.1-py3-none-any.whl (24 kB)\n",
            "Building wheels for collected packages: pypika\n",
            "  Building wheel for pypika (pyproject.toml) ... \u001b[?25l\u001b[?25hdone\n",
            "  Created wheel for pypika: filename=PyPika-0.48.9-py2.py3-none-any.whl size=53726 sha256=d2e992e2b0ead13b73a7bbf6e436fcb31989120c28f4223dfb9c40e65197a17f\n",
            "  Stored in directory: /root/.cache/pip/wheels/e1/26/51/d0bffb3d2fd82256676d7ad3003faea3bd6dddc9577af665f4\n",
            "Successfully built pypika\n",
            "Installing collected packages: pypika, monotonic, mmh3, websockets, watchdog, uvloop, tenacity, smmap, python-dotenv, pypdf, overrides, orjson, opentelemetry-util-http, opentelemetry-proto, mypy-extensions, marshmallow, jsonpointer, humanfriendly, httptools, h11, faiss-cpu, deprecated, chroma-hnswlib, bcrypt, backoff, asgiref, watchfiles, uvicorn, typing-inspect, starlette, pydeck, posthog, opentelemetry-exporter-otlp-proto-common, opentelemetry-api, jsonpatch, httpcore, gitdb, coloredlogs, bs4, opentelemetry-semantic-conventions, opentelemetry-instrumentation, onnxruntime, kubernetes, httpx, gitpython, fastapi, dataclasses-json, opentelemetry-sdk, opentelemetry-instrumentation-asgi, langsmith, streamlit, opentelemetry-instrumentation-fastapi, opentelemetry-exporter-otlp-proto-grpc, langchain-core, langchain-text-splitters, chromadb, langchain_google_genai, langchain, langchain_community\n",
            "  Attempting uninstall: tenacity\n",
            "    Found existing installation: tenacity 9.0.0\n",
            "    Uninstalling tenacity-9.0.0:\n",
            "      Successfully uninstalled tenacity-9.0.0\n",
            "Successfully installed asgiref-3.8.1 backoff-2.2.1 bcrypt-4.2.0 bs4-0.0.2 chroma-hnswlib-0.7.6 chromadb-0.5.5 coloredlogs-15.0.1 dataclasses-json-0.6.7 deprecated-1.2.14 faiss-cpu-1.8.0.post1 fastapi-0.114.1 gitdb-4.0.11 gitpython-3.1.43 h11-0.14.0 httpcore-1.0.5 httptools-0.6.1 httpx-0.27.2 humanfriendly-10.0 jsonpatch-1.33 jsonpointer-3.0.0 kubernetes-30.1.0 langchain-0.2.16 langchain-core-0.2.39 langchain-text-splitters-0.2.4 langchain_community-0.2.16 langchain_google_genai-1.0.10 langsmith-0.1.117 marshmallow-3.22.0 mmh3-4.1.0 monotonic-1.6 mypy-extensions-1.0.0 onnxruntime-1.19.2 opentelemetry-api-1.27.0 opentelemetry-exporter-otlp-proto-common-1.27.0 opentelemetry-exporter-otlp-proto-grpc-1.27.0 opentelemetry-instrumentation-0.48b0 opentelemetry-instrumentation-asgi-0.48b0 opentelemetry-instrumentation-fastapi-0.48b0 opentelemetry-proto-1.27.0 opentelemetry-sdk-1.27.0 opentelemetry-semantic-conventions-0.48b0 opentelemetry-util-http-0.48b0 orjson-3.10.7 overrides-7.7.0 posthog-3.6.5 pydeck-0.9.1 pypdf-4.3.1 pypika-0.48.9 python-dotenv-1.0.1 smmap-5.0.1 starlette-0.38.5 streamlit-1.38.0 tenacity-8.5.0 typing-inspect-0.9.0 uvicorn-0.30.6 uvloop-0.20.0 watchdog-4.0.2 watchfiles-0.24.0 websockets-13.0.1\n"
          ]
        }
      ],
      "source": [
        "!pip install -r requirements.txt"
      ]
    },
    {
      "cell_type": "markdown",
      "source": [
        "### Data Loading"
      ],
      "metadata": {
        "id": "LKkw7n9sby9U"
      }
    },
    {
      "cell_type": "code",
      "source": [
        "from langchain_community.document_loaders import TextLoader\n",
        "loader=TextLoader('Squirrel_text.txt')\n",
        "document=loader.load()\n",
        "print(document)"
      ],
      "metadata": {
        "colab": {
          "base_uri": "https://localhost:8080/"
        },
        "id": "BddenYsvbyP2",
        "outputId": "3f480d10-a203-4b2f-9b3f-01dfbbb25d41"
      },
      "execution_count": 2,
      "outputs": [
        {
          "output_type": "stream",
          "name": "stdout",
          "text": [
            "[Document(metadata={'source': 'Squirrel_text.txt'}, page_content=\"CompanyName:The Squirrel; The Squirrel is a dynamic, forward-thinking service-based company that excels in delivering a wide array of cutting-edge digital solutions, crafted to meet the diverse needs of modern businesses. With a focus on harnessing technology to its fullest potential, The Squirrel stands out as a one-stop destination for high-quality services ranging from machine learning model development, web development, app development, video editing, social media management, to SEO. Their deep commitment to innovation and precision enables them to build tailored machine learning models that help businesses optimize decision-making processes, enhance customer experiences, and streamline operations. From predictive analytics to natural language processing and deep learning applications, The Squirrel's machine learning team is adept at turning complex data into actionable insights that can transform the trajectory of any enterprise. Beyond their prowess in machine learning, The Squirrel’s web development division offers unmatched creativity and technical expertise. They specialize in crafting responsive, visually captivating, and high-performance websites that not only engage visitors but also drive conversions. Whether the project involves building a sleek e-commerce platform, an interactive business portal, or a personalized content management system, The Squirrel tailors its web development services to suit the unique brand identity and goals of each client. Their attention to user experience (UX) and user interface (UI) design ensures that every site they build is intuitive, functional, and aesthetically pleasing. In the sphere of app development, The Squirrel takes a user-centric approach, delivering seamless and robust mobile and desktop applications that cater to a variety of industries. Their developers are proficient in both native and cross-platform app development, working diligently to bring app ideas to life while ensuring they perform flawlessly across devices. By staying ahead of technological trends, The Squirrel delivers apps that are future-proof, scalable, and capable of making a significant impact in the digital marketplace. Not stopping there, The Squirrel also offers video editing services that are as creative as they are technically proficient. Whether it’s producing polished promotional videos, engaging social media clips, or full-scale corporate documentaries, The Squirrel's video editing team brings stories to life with precision and flair. They are skilled at combining footage, graphics, sound, and effects to create visually compelling narratives that capture attention and effectively communicate the intended message. In the ever-evolving world of social media management, The Squirrel provides strategic and consistent support to businesses looking to expand their online presence. Their social media specialists develop and execute tailored strategies that build brand loyalty, foster community engagement, and increase overall visibility across platforms like Instagram, Twitter, LinkedIn, and Facebook. By leveraging analytics and trends, they ensure that each post, campaign, and interaction resonates with the target audience, driving meaningful engagement and long-term growth. Finally, SEO (Search Engine Optimization) is at the heart of The Squirrel’s services. With a keen understanding of search engine algorithms and evolving industry practices, The Squirrel helps businesses climb search engine rankings through effective on-page and off-page SEO techniques. From meticulous keyword research to content optimization and link-building strategies, their SEO specialists implement measures that increase website visibility, attract organic traffic, and ultimately, improve revenue generation. With a comprehensive suite of services, The Squirrel positions itself as a versatile and trustworthy partner for businesses aiming to thrive in the digital landscape. Their dedication to delivering exceptional results, coupled with their ability to stay ahead of emerging trends, makes them a standout player in the tech services industry. Whether your needs involve complex machine learning models, stunning websites, user-friendly apps, engaging videos, impactful social media strategies, or effective SEO practices, The Squirrel provides the expertise, creativity, and technological proficiency to take your business to the next level.; CompanyServices: 1.Machine Learning Model Development:At The Squirrel, we understand the power of Machine Learning in enabling businesses to make informed decisions, streamline operations, and engage customers better. Our team of experts specializes in developing advanced and tailored Machine Learning models that are designed to meet the unique needs and challenges of businesses like yours.Our expertise spans a wide range of Machine Learning techniques, including predictive analytics, natural language processing (NLP), and deep learning. We believe that understanding the nuances of each technique and applying them appropriately is the key to delivering effective solutions that drive business efficiency and growth.Our approach to Machine Learning model development begins with a thorough analysis of your data. We drill deeper into your data, identifying key patterns and trends that inform model development. Our team then leverages sophisticated algorithms and models that not only predict future outcomes but also adapt to changing conditions.We work closely with you to understand your specific needs and challenges, developing custom solutions that provide actionable insights and drive efficiency. Our team takes the time to understand your data, business processes, and objectives to develop models that cater to your unique requirements.Our Machine Learning solutions have helped businesses elevate their decision-making processes, optimize customer interactions, and streamline operations. We can help you enhance customer experiences through personalized recommendations or optimize operations with automated decision-making systems, improving business efficiency and driving growth.In conclusion, The Squirrel's expertise in Machine Learning Model Development can help your business unlock the power of data to drive business efficiency and growth. Our tailored solutions that leverage Machine Learning techniques are designed to deliver measurable results and drive your business forward. Contact us today to learn more about how we can help you harness the power of Machine Learning to solve your business challenges and achieve your goals. 2.Web Development: The Squirrel's web development services go beyond simply creating a website. We understand that a successful online presence requires a strategic approach, seamless functionality, and a focus on performance. That's why our team is committed to delivering comprehensive web development solutions that align with your business strategy and contribute to your overall success.Our web development process begins with a thorough understanding of your brand identity, target audience, and business goals. We believe that a website should be a natural extension of your brand, reflecting its unique personality and values. By taking the time to understand your brand, we are able to create a bespoke website that not only looks great but also resonates with your audience.Throughout the development phase, we prioritize responsive design and high-performance standards. With the increasing use of mobile devices for browsing, it's crucial that your website is fully responsive and provides an optimal viewing experience across a range of devices and screen sizes. Our team ensures that your website is not only visually appealing but also functions seamlessly on desktops, laptops, tablets, and smartphones.In addition to responsive design, our team places a strong emphasis on performance optimization. We understand that slow-loading websites can often result in high bounce rates and decreased user engagement. That's why we employ best practices for performance optimization, including minimizing loading times, optimizing images and videos, and implementing efficient coding techniques to ensure that your website runs smoothly and efficiently.Furthermore, our expertise in e-commerce platforms, business portals, and content management systems (CMS) enables us to provide tailored solutions that meet your specific requirements. Whether you're looking to set up an online store, build an engaging business portal, or streamline content management, our team has the knowledge and experience to deliver robust and scalable solutions.At The Squirrel, our commitment to excellence goes beyond the development phase. We provide ongoing support and maintenance to ensure that your website remains secure, up-to-date, and optimized for performance. Our team is dedicated to providing timely updates, addressing any issues that may arise, and continuously enhancing your website to keep up with evolving industry standards and user expectations.In conclusion, The Squirrel's web development services are designed to empower your brand with a strong online presence that is not only visually appealing but also functional, user-friendly, and performance-optimized. By leveraging our expertise in UX/UI design, responsive development, and tailored solutions, you can be confident that your website will effectively engage your audience, drive conversions, and support your business objectives. Contact us today to learn more about how we can elevate your online presence through our comprehensive web development services.3.App Development: When it comes to App Development, The Squirrel excels in delivering seamless and robust mobile and desktop applications with a strong emphasis on user-centric design. Our comprehensive expertise covers both native and cross-platform app development, ensuring that your applications are scalable, performant, and impactful across a wide range of devices and operating systems.We take a holistic approach to app development, prioritizing not only meeting functional requirements but also providing an exceptional user experience. Our process involves thorough planning, detailed design, rigorous development, and comprehensive testing to guarantee that each app we create is reliable, engaging, and aligns with your business objectives.Whether you require a custom mobile app to connect with users on the go or a desktop application geared towards enhancing productivity, our solutions are meticulously crafted to exceed expectations and drive user satisfaction. By incorporating user-centric design principles and leveraging the latest technologies, we ensure that your applications stand out in a competitive digital landscape and deliver value to both your business and your users.At The Squirrel, we are committed to creating innovative and user-friendly applications that not only meet your current needs but also adapt to future trends and demands. Our team of app development experts is dedicated to helping you achieve your business goals by delivering high-quality applications that enhance user engagement, streamline operations, and drive growth.Regardless of the complexity or scope of your app development project, you can rely on The Squirrel to deliver tailor-made solutions that align with your vision and exceed your expectations. Contact us today to learn more about how our app development services can help you elevate your digital presence and achieve success in the ever-evolving world of technology.4.Video Editing:At The Squirrel, our Video Editing services are tailored to transform raw footage into polished, compelling visual content that resonates with your target audience. We specialize in creating a variety of video content such as promotional videos, engaging social media clips, and impactful corporate documentaries, each designed to tell a unique and captivating story.Our video editing process is a seamless integration of footage, graphics, sound, and effects, culminating in visually striking narratives that captivate and inform viewers. Our team of skilled editors is well-versed in employing the latest editing techniques and software to enhance your videos with professional-grade quality, ensuring that your content stands out in a crowded digital landscape.From the initial stages of storyboarding and scriptwriting to the final edits and post-production touches, we meticulously handle every aspect of video creation with precision and creativity. Our goal is to help you boost brand awareness, drive social media engagement, and effectively communicate key messages through visually compelling videos that leave a lasting impact on your audience.Whether you are looking to enhance your online presence, engage with your followers on social media, or share your brand story in a captivating manner, our video editing services are designed to deliver exceptional results and elevate your content to the next level. By partnering with The Squirrel for your video editing needs, you can expect professional and personalized service that aligns with your vision and objectives.Contact us today to learn more about how our Video Editing services can help you create visually stunning content that captivates your audience, drives engagement, and effectively communicates your brand message. Let us bring your vision to life through the power of video editing and storytelling.5.Social Media Management:At The Squirrel, we specialize in providing expert Social Media Management services designed to help you develop and implement effective social media strategies that align with your brand's unique voice and goals. Our approach is centered around building brand loyalty, fostering engagement, and enhancing visibility across key platforms such as Instagram, Twitter, LinkedIn, and Facebook.To kick off the process, we conduct a comprehensive analysis of your current social media presence, identifying opportunities for growth and improvement. Our dedicated team then creates customized strategies that encompass content planning, audience targeting, and in-depth performance analysis, ensuring that your social media efforts are purposeful and in line with your broader marketing objectives.By harnessing data-driven insights and crafting creative, compelling content, we enable you to forge meaningful connections with your audience, drive valuable interactions, and attain your social media goals. Our team is committed to helping you leverage the full potential of social media platforms, empowering you to reach and resonate with your target audience in a meaningful and impactful manner.With The Squirrel handling your social media management needs, you can expect a tailored approach that takes into account your brand's unique identity, industry landscape, and competitive positioning. Our expertise spans various aspects of social media management, including content creation, community engagement, performance tracking, and strategic planning, all aimed at helping you maximize the impact of your social media presence.If you're ready to elevate your brand's social media positioning and utilize these platforms as powerful tools for engagement and growth, we invite you to reach out to The Squirrel to explore how our Social Media Management services can benefit your business. Let us guide you towards achieving a compelling and impactful social media presence that effectively aligns with your brand's long-term objectives. 6.SEO:At The Squirrel, we understand that successful digital marketing hinges on a well-rounded and strategic approach to Search Engine Optimization (SEO). Our SEO services are meticulously crafted to amplify your website’s visibility, driving not only increased traffic but also high-quality, organic traffic that converts into tangible results. We know that the landscape of SEO is ever-evolving, which is why we implement a multi-faceted strategy that integrates both on-page and off-page SEO techniques. Our process begins with an in-depth analysis of your website’s current SEO standing, followed by comprehensive keyword research aimed at uncovering the search terms that resonate most with your target audience. These carefully selected keywords form the foundation of our SEO strategy, ensuring that your website is aligned with what potential customers are actively searching for. Once the right keywords have been identified, we move on to optimizing your website’s content, ensuring that it is not only relevant and engaging but also structured to meet the latest search engine criteria. This involves refining everything from meta titles and descriptions to internal linking structures and image alt texts, creating a user-friendly and search engine-friendly environment that fosters both higher rankings and a better user experience. But we don’t stop at on-page optimization. At The Squirrel, we recognize that off-page SEO is equally important in building your website’s authority. Our off-page SEO strategies include extensive link-building efforts, designed to establish your website as a trusted resource in your industry. By securing high-quality backlinks from reputable sources, we bolster your site’s credibility, enhancing its domain authority and improving its positioning in search engine results pages (SERPs).Furthermore, we engage in outreach efforts to broaden your online footprint and increase brand exposure across various digital platforms. This combination of technical refinement and strategic outreach ensures that your website doesn’t just rank higher temporarily but maintains long-term visibility and success in a competitive digital marketplace. At The Squirrel, we believe in delivering measurable results, which is why we continuously monitor and adjust our SEO strategies to keep your business ahead of changing algorithms and emerging trends. Our goal is to help you not only rise in the rankings but also establish a strong, lasting online presence that continues to attract and engage your target audience, ensuring your business thrives in the digital age.;;\")]\n"
          ]
        }
      ]
    },
    {
      "cell_type": "markdown",
      "source": [
        "### Indexing, data transformation"
      ],
      "metadata": {
        "id": "TwF-C8bTcbiC"
      }
    },
    {
      "cell_type": "code",
      "source": [
        "from langchain_text_splitters import RecursiveCharacterTextSplitter\n",
        "text_splitter=RecursiveCharacterTextSplitter(chunk_size=500,chunk_overlap=20)\n",
        "texts=text_splitter.split_documents(document)\n",
        "print(texts)"
      ],
      "metadata": {
        "id": "Kw3Fn4lGcf3T",
        "colab": {
          "base_uri": "https://localhost:8080/"
        },
        "outputId": "2c961e63-ff80-4d88-e0b8-ccb511a8c578"
      },
      "execution_count": 7,
      "outputs": [
        {
          "output_type": "stream",
          "name": "stdout",
          "text": [
            "[Document(metadata={'source': 'Squirrel_text.txt'}, page_content='CompanyName:The Squirrel; The Squirrel is a dynamic, forward-thinking service-based company that excels in delivering a wide array of cutting-edge digital solutions, crafted to meet the diverse needs of modern businesses. With a focus on harnessing technology to its fullest potential, The Squirrel stands out as a one-stop destination for high-quality services ranging from machine learning model development, web development, app development, video editing, social media management, to SEO. Their'), Document(metadata={'source': 'Squirrel_text.txt'}, page_content=\"to SEO. Their deep commitment to innovation and precision enables them to build tailored machine learning models that help businesses optimize decision-making processes, enhance customer experiences, and streamline operations. From predictive analytics to natural language processing and deep learning applications, The Squirrel's machine learning team is adept at turning complex data into actionable insights that can transform the trajectory of any enterprise. Beyond their prowess in machine\"), Document(metadata={'source': 'Squirrel_text.txt'}, page_content='prowess in machine learning, The Squirrel’s web development division offers unmatched creativity and technical expertise. They specialize in crafting responsive, visually captivating, and high-performance websites that not only engage visitors but also drive conversions. Whether the project involves building a sleek e-commerce platform, an interactive business portal, or a personalized content management system, The Squirrel tailors its web development services to suit the unique brand identity'), Document(metadata={'source': 'Squirrel_text.txt'}, page_content='brand identity and goals of each client. Their attention to user experience (UX) and user interface (UI) design ensures that every site they build is intuitive, functional, and aesthetically pleasing. In the sphere of app development, The Squirrel takes a user-centric approach, delivering seamless and robust mobile and desktop applications that cater to a variety of industries. Their developers are proficient in both native and cross-platform app development, working diligently to bring app'), Document(metadata={'source': 'Squirrel_text.txt'}, page_content='to bring app ideas to life while ensuring they perform flawlessly across devices. By staying ahead of technological trends, The Squirrel delivers apps that are future-proof, scalable, and capable of making a significant impact in the digital marketplace. Not stopping there, The Squirrel also offers video editing services that are as creative as they are technically proficient. Whether it’s producing polished promotional videos, engaging social media clips, or full-scale corporate documentaries,'), Document(metadata={'source': 'Squirrel_text.txt'}, page_content=\"documentaries, The Squirrel's video editing team brings stories to life with precision and flair. They are skilled at combining footage, graphics, sound, and effects to create visually compelling narratives that capture attention and effectively communicate the intended message. In the ever-evolving world of social media management, The Squirrel provides strategic and consistent support to businesses looking to expand their online presence. Their social media specialists develop and execute\"), Document(metadata={'source': 'Squirrel_text.txt'}, page_content='develop and execute tailored strategies that build brand loyalty, foster community engagement, and increase overall visibility across platforms like Instagram, Twitter, LinkedIn, and Facebook. By leveraging analytics and trends, they ensure that each post, campaign, and interaction resonates with the target audience, driving meaningful engagement and long-term growth. Finally, SEO (Search Engine Optimization) is at the heart of The Squirrel’s services. With a keen understanding of search engine'), Document(metadata={'source': 'Squirrel_text.txt'}, page_content='of search engine algorithms and evolving industry practices, The Squirrel helps businesses climb search engine rankings through effective on-page and off-page SEO techniques. From meticulous keyword research to content optimization and link-building strategies, their SEO specialists implement measures that increase website visibility, attract organic traffic, and ultimately, improve revenue generation. With a comprehensive suite of services, The Squirrel positions itself as a versatile and'), Document(metadata={'source': 'Squirrel_text.txt'}, page_content='as a versatile and trustworthy partner for businesses aiming to thrive in the digital landscape. Their dedication to delivering exceptional results, coupled with their ability to stay ahead of emerging trends, makes them a standout player in the tech services industry. Whether your needs involve complex machine learning models, stunning websites, user-friendly apps, engaging videos, impactful social media strategies, or effective SEO practices, The Squirrel provides the expertise, creativity,'), Document(metadata={'source': 'Squirrel_text.txt'}, page_content='creativity, and technological proficiency to take your business to the next level.; CompanyServices: 1.Machine Learning Model Development:At The Squirrel, we understand the power of Machine Learning in enabling businesses to make informed decisions, streamline operations, and engage customers better. Our team of experts specializes in developing advanced and tailored Machine Learning models that are designed to meet the unique needs and challenges of businesses like yours.Our expertise spans a'), Document(metadata={'source': 'Squirrel_text.txt'}, page_content='expertise spans a wide range of Machine Learning techniques, including predictive analytics, natural language processing (NLP), and deep learning. We believe that understanding the nuances of each technique and applying them appropriately is the key to delivering effective solutions that drive business efficiency and growth.Our approach to Machine Learning model development begins with a thorough analysis of your data. We drill deeper into your data, identifying key patterns and trends that'), Document(metadata={'source': 'Squirrel_text.txt'}, page_content='and trends that inform model development. Our team then leverages sophisticated algorithms and models that not only predict future outcomes but also adapt to changing conditions.We work closely with you to understand your specific needs and challenges, developing custom solutions that provide actionable insights and drive efficiency. Our team takes the time to understand your data, business processes, and objectives to develop models that cater to your unique requirements.Our Machine Learning'), Document(metadata={'source': 'Squirrel_text.txt'}, page_content=\"Machine Learning solutions have helped businesses elevate their decision-making processes, optimize customer interactions, and streamline operations. We can help you enhance customer experiences through personalized recommendations or optimize operations with automated decision-making systems, improving business efficiency and driving growth.In conclusion, The Squirrel's expertise in Machine Learning Model Development can help your business unlock the power of data to drive business efficiency\"), Document(metadata={'source': 'Squirrel_text.txt'}, page_content=\"business efficiency and growth. Our tailored solutions that leverage Machine Learning techniques are designed to deliver measurable results and drive your business forward. Contact us today to learn more about how we can help you harness the power of Machine Learning to solve your business challenges and achieve your goals. 2.Web Development: The Squirrel's web development services go beyond simply creating a website. We understand that a successful online presence requires a strategic\"), Document(metadata={'source': 'Squirrel_text.txt'}, page_content=\"a strategic approach, seamless functionality, and a focus on performance. That's why our team is committed to delivering comprehensive web development solutions that align with your business strategy and contribute to your overall success.Our web development process begins with a thorough understanding of your brand identity, target audience, and business goals. We believe that a website should be a natural extension of your brand, reflecting its unique personality and values. By taking the\"), Document(metadata={'source': 'Squirrel_text.txt'}, page_content=\"By taking the time to understand your brand, we are able to create a bespoke website that not only looks great but also resonates with your audience.Throughout the development phase, we prioritize responsive design and high-performance standards. With the increasing use of mobile devices for browsing, it's crucial that your website is fully responsive and provides an optimal viewing experience across a range of devices and screen sizes. Our team ensures that your website is not only visually\"), Document(metadata={'source': 'Squirrel_text.txt'}, page_content=\"not only visually appealing but also functions seamlessly on desktops, laptops, tablets, and smartphones.In addition to responsive design, our team places a strong emphasis on performance optimization. We understand that slow-loading websites can often result in high bounce rates and decreased user engagement. That's why we employ best practices for performance optimization, including minimizing loading times, optimizing images and videos, and implementing efficient coding techniques to ensure\"), Document(metadata={'source': 'Squirrel_text.txt'}, page_content=\"to ensure that your website runs smoothly and efficiently.Furthermore, our expertise in e-commerce platforms, business portals, and content management systems (CMS) enables us to provide tailored solutions that meet your specific requirements. Whether you're looking to set up an online store, build an engaging business portal, or streamline content management, our team has the knowledge and experience to deliver robust and scalable solutions.At The Squirrel, our commitment to excellence goes\"), Document(metadata={'source': 'Squirrel_text.txt'}, page_content=\"to excellence goes beyond the development phase. We provide ongoing support and maintenance to ensure that your website remains secure, up-to-date, and optimized for performance. Our team is dedicated to providing timely updates, addressing any issues that may arise, and continuously enhancing your website to keep up with evolving industry standards and user expectations.In conclusion, The Squirrel's web development services are designed to empower your brand with a strong online presence that\"), Document(metadata={'source': 'Squirrel_text.txt'}, page_content='presence that is not only visually appealing but also functional, user-friendly, and performance-optimized. By leveraging our expertise in UX/UI design, responsive development, and tailored solutions, you can be confident that your website will effectively engage your audience, drive conversions, and support your business objectives. Contact us today to learn more about how we can elevate your online presence through our comprehensive web development services.3.App Development: When it comes to'), Document(metadata={'source': 'Squirrel_text.txt'}, page_content='When it comes to App Development, The Squirrel excels in delivering seamless and robust mobile and desktop applications with a strong emphasis on user-centric design. Our comprehensive expertise covers both native and cross-platform app development, ensuring that your applications are scalable, performant, and impactful across a wide range of devices and operating systems.We take a holistic approach to app development, prioritizing not only meeting functional requirements but also providing an'), Document(metadata={'source': 'Squirrel_text.txt'}, page_content='also providing an exceptional user experience. Our process involves thorough planning, detailed design, rigorous development, and comprehensive testing to guarantee that each app we create is reliable, engaging, and aligns with your business objectives.Whether you require a custom mobile app to connect with users on the go or a desktop application geared towards enhancing productivity, our solutions are meticulously crafted to exceed expectations and drive user satisfaction. By incorporating'), Document(metadata={'source': 'Squirrel_text.txt'}, page_content='By incorporating user-centric design principles and leveraging the latest technologies, we ensure that your applications stand out in a competitive digital landscape and deliver value to both your business and your users.At The Squirrel, we are committed to creating innovative and user-friendly applications that not only meet your current needs but also adapt to future trends and demands. Our team of app development experts is dedicated to helping you achieve your business goals by delivering'), Document(metadata={'source': 'Squirrel_text.txt'}, page_content='goals by delivering high-quality applications that enhance user engagement, streamline operations, and drive growth.Regardless of the complexity or scope of your app development project, you can rely on The Squirrel to deliver tailor-made solutions that align with your vision and exceed your expectations. Contact us today to learn more about how our app development services can help you elevate your digital presence and achieve success in the ever-evolving world of technology.4.Video Editing:At'), Document(metadata={'source': 'Squirrel_text.txt'}, page_content='Editing:At The Squirrel, our Video Editing services are tailored to transform raw footage into polished, compelling visual content that resonates with your target audience. We specialize in creating a variety of video content such as promotional videos, engaging social media clips, and impactful corporate documentaries, each designed to tell a unique and captivating story.Our video editing process is a seamless integration of footage, graphics, sound, and effects, culminating in visually'), Document(metadata={'source': 'Squirrel_text.txt'}, page_content='in visually striking narratives that captivate and inform viewers. Our team of skilled editors is well-versed in employing the latest editing techniques and software to enhance your videos with professional-grade quality, ensuring that your content stands out in a crowded digital landscape.From the initial stages of storyboarding and scriptwriting to the final edits and post-production touches, we meticulously handle every aspect of video creation with precision and creativity. Our goal is to'), Document(metadata={'source': 'Squirrel_text.txt'}, page_content='Our goal is to help you boost brand awareness, drive social media engagement, and effectively communicate key messages through visually compelling videos that leave a lasting impact on your audience.Whether you are looking to enhance your online presence, engage with your followers on social media, or share your brand story in a captivating manner, our video editing services are designed to deliver exceptional results and elevate your content to the next level. By partnering with The Squirrel'), Document(metadata={'source': 'Squirrel_text.txt'}, page_content='with The Squirrel for your video editing needs, you can expect professional and personalized service that aligns with your vision and objectives.Contact us today to learn more about how our Video Editing services can help you create visually stunning content that captivates your audience, drives engagement, and effectively communicates your brand message. Let us bring your vision to life through the power of video editing and storytelling.5.Social Media Management:At The Squirrel, we specialize'), Document(metadata={'source': 'Squirrel_text.txt'}, page_content=\"we specialize in providing expert Social Media Management services designed to help you develop and implement effective social media strategies that align with your brand's unique voice and goals. Our approach is centered around building brand loyalty, fostering engagement, and enhancing visibility across key platforms such as Instagram, Twitter, LinkedIn, and Facebook.To kick off the process, we conduct a comprehensive analysis of your current social media presence, identifying opportunities\"), Document(metadata={'source': 'Squirrel_text.txt'}, page_content='opportunities for growth and improvement. Our dedicated team then creates customized strategies that encompass content planning, audience targeting, and in-depth performance analysis, ensuring that your social media efforts are purposeful and in line with your broader marketing objectives.By harnessing data-driven insights and crafting creative, compelling content, we enable you to forge meaningful connections with your audience, drive valuable interactions, and attain your social media goals.'), Document(metadata={'source': 'Squirrel_text.txt'}, page_content=\"social media goals. Our team is committed to helping you leverage the full potential of social media platforms, empowering you to reach and resonate with your target audience in a meaningful and impactful manner.With The Squirrel handling your social media management needs, you can expect a tailored approach that takes into account your brand's unique identity, industry landscape, and competitive positioning. Our expertise spans various aspects of social media management, including content\"), Document(metadata={'source': 'Squirrel_text.txt'}, page_content=\"including content creation, community engagement, performance tracking, and strategic planning, all aimed at helping you maximize the impact of your social media presence.If you're ready to elevate your brand's social media positioning and utilize these platforms as powerful tools for engagement and growth, we invite you to reach out to The Squirrel to explore how our Social Media Management services can benefit your business. Let us guide you towards achieving a compelling and impactful social\"), Document(metadata={'source': 'Squirrel_text.txt'}, page_content=\"impactful social media presence that effectively aligns with your brand's long-term objectives. 6.SEO:At The Squirrel, we understand that successful digital marketing hinges on a well-rounded and strategic approach to Search Engine Optimization (SEO). Our SEO services are meticulously crafted to amplify your website’s visibility, driving not only increased traffic but also high-quality, organic traffic that converts into tangible results. We know that the landscape of SEO is ever-evolving,\"), Document(metadata={'source': 'Squirrel_text.txt'}, page_content='is ever-evolving, which is why we implement a multi-faceted strategy that integrates both on-page and off-page SEO techniques. Our process begins with an in-depth analysis of your website’s current SEO standing, followed by comprehensive keyword research aimed at uncovering the search terms that resonate most with your target audience. These carefully selected keywords form the foundation of our SEO strategy, ensuring that your website is aligned with what potential customers are actively'), Document(metadata={'source': 'Squirrel_text.txt'}, page_content='are actively searching for. Once the right keywords have been identified, we move on to optimizing your website’s content, ensuring that it is not only relevant and engaging but also structured to meet the latest search engine criteria. This involves refining everything from meta titles and descriptions to internal linking structures and image alt texts, creating a user-friendly and search engine-friendly environment that fosters both higher rankings and a better user experience. But we don’t'), Document(metadata={'source': 'Squirrel_text.txt'}, page_content='But we don’t stop at on-page optimization. At The Squirrel, we recognize that off-page SEO is equally important in building your website’s authority. Our off-page SEO strategies include extensive link-building efforts, designed to establish your website as a trusted resource in your industry. By securing high-quality backlinks from reputable sources, we bolster your site’s credibility, enhancing its domain authority and improving its positioning in search engine results pages'), Document(metadata={'source': 'Squirrel_text.txt'}, page_content='results pages (SERPs).Furthermore, we engage in outreach efforts to broaden your online footprint and increase brand exposure across various digital platforms. This combination of technical refinement and strategic outreach ensures that your website doesn’t just rank higher temporarily but maintains long-term visibility and success in a competitive digital marketplace. At The Squirrel, we believe in delivering measurable results, which is why we continuously monitor and adjust our SEO'), Document(metadata={'source': 'Squirrel_text.txt'}, page_content='and adjust our SEO strategies to keep your business ahead of changing algorithms and emerging trends. Our goal is to help you not only rise in the rankings but also establish a strong, lasting online presence that continues to attract and engage your target audience, ensuring your business thrives in the digital age.;;')]\n"
          ]
        }
      ]
    },
    {
      "cell_type": "markdown",
      "source": [
        "### Vector Embedding based on the model"
      ],
      "metadata": {
        "id": "NP7VacVSeAKE"
      }
    },
    {
      "cell_type": "code",
      "source": [
        "import json\n",
        "# !pip install Faiss_cpu\n",
        "config_data=json.load(open(\"config.json\"))\n",
        "GOOGLE_API_KEY=config_data['GOOGLE_API_KEY']\n",
        "\n",
        "from langchain_google_genai import GoogleGenerativeAIEmbeddings\n",
        "from langchain_community.vectorstores import FAISS\n",
        "\n",
        "embedding_model=GoogleGenerativeAIEmbeddings(model='models/embedding-001', google_api_key=GOOGLE_API_KEY)\n",
        "db=FAISS.from_documents(texts,embedding_model)"
      ],
      "metadata": {
        "id": "1SWBdXBheOzd"
      },
      "execution_count": 8,
      "outputs": []
    },
    {
      "cell_type": "markdown",
      "source": [
        "### LLM and model"
      ],
      "metadata": {
        "id": "BAQEc_ZHjUvY"
      }
    },
    {
      "cell_type": "markdown",
      "source": [],
      "metadata": {
        "id": "lTK4bpydeIgz"
      }
    },
    {
      "cell_type": "code",
      "source": [
        "from langchain.prompts import ChatPromptTemplate\n",
        "from langchain_core.output_parsers import StrOutputParser\n",
        "from langchain_google_genai import GoogleGenerativeAI\n",
        "\n",
        "system=\"You're a helpful AI assistant of the company Squirrel, you help to resolve user query based on the company details. Use the context provided to answer the user query {context}\"\n",
        "human=\"{text}\"\n",
        "\n",
        "prompt = ChatPromptTemplate.from_messages(\n",
        "    [\n",
        "        (\"system\", system),\n",
        "        (\"human\", human),\n",
        "    ]\n",
        ")\n",
        "\n",
        "llm=GoogleGenerativeAI(model='models/gemini-1.5-flash',temperature=0.4,google_api_key=GOOGLE_API_KEY)\n",
        "\n",
        "# retriever = db.as_retriever()\n",
        "# retriver_context=retriever.invoke(\"What is Squirrel?\")\n",
        "# print(retriver_context)\n",
        "\n",
        "# Retriever for fetching documents from the database\n",
        "retriever = db.as_retriever()\n",
        "\n",
        "# Function to format the retrieved documents into a single string\n",
        "def format_docs(docs):\n",
        "    return \"\\n\\n\".join(doc.page_content for doc in docs)\n",
        "\n",
        "# Retrieve the relevant context from the database for the query \"What is The Squirrel?\"\n",
        "retriever_context = retriever.get_relevant_documents(\"About Squirrel?\")\n",
        "formatted_context = format_docs(retriever_context)\n",
        "\n",
        "chain = prompt | llm | StrOutputParser()\n",
        "chain.invoke({\"context\":retriever_context,\"text\":\"What are the services provided by The Squirrel?\"})"
      ],
      "metadata": {
        "colab": {
          "base_uri": "https://localhost:8080/",
          "height": 88
        },
        "id": "QJ77iKptpSwi",
        "outputId": "1f90e42a-9d50-4895-cc0a-23ffbc680eda"
      },
      "execution_count": 10,
      "outputs": [
        {
          "output_type": "execute_result",
          "data": {
            "text/plain": [
              "'The Squirrel offers a wide range of digital solutions for modern businesses, including:\\n\\n* **Machine learning model development**\\n* **Web development**\\n* **App development**\\n* **Video editing**\\n* **Social media management**\\n* **SEO**\\n\\nThey also specialize in:\\n\\n* **Tailored strategies for brand loyalty, community engagement, and increased visibility across platforms.**\\n* **SEO techniques to improve website visibility, attract organic traffic, and boost revenue.**\\n* **User-centric approach to app development, delivering seamless and robust mobile and desktop applications.** \\n'"
            ],
            "application/vnd.google.colaboratory.intrinsic+json": {
              "type": "string"
            }
          },
          "metadata": {},
          "execution_count": 10
        }
      ]
    }
  ]
}